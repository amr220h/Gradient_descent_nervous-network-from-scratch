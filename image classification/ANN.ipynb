{
 "cells": [
  {
   "cell_type": "code",
   "execution_count": 18,
   "id": "66225b0b",
   "metadata": {},
   "outputs": [],
   "source": [
    "import tensorflow as tf\n",
    "import pandas as pd\n",
    "import matplotlib.pylab as plt\n"
   ]
  },
  {
   "cell_type": "code",
   "execution_count": 19,
   "id": "cd6f0454",
   "metadata": {},
   "outputs": [],
   "source": [
    "from tensorflow import keras"
   ]
  },
  {
   "cell_type": "code",
   "execution_count": 20,
   "id": "6dd26ef5",
   "metadata": {},
   "outputs": [],
   "source": [
    "(X_train,y_train),(X_test,y_test) = tf.keras.datasets.cifar10.load_data()\n"
   ]
  },
  {
   "cell_type": "code",
   "execution_count": 21,
   "id": "c8ac5bc6",
   "metadata": {},
   "outputs": [],
   "source": [
    "Xtrain_scaled = X_train/ 255\n",
    "Xtest_scaled = X_test/255\n"
   ]
  },
  {
   "cell_type": "code",
   "execution_count": 22,
   "id": "795016e4",
   "metadata": {},
   "outputs": [
    {
     "data": {
      "text/plain": [
       "'cat'"
      ]
     },
     "execution_count": 22,
     "metadata": {},
     "output_type": "execute_result"
    }
   ],
   "source": [
    "classes = ['airplane','automobile','bird','cat','deer','dog','frog','horse','ship','truck']\n",
    "classes[y_train[9][0]]"
   ]
  },
  {
   "cell_type": "markdown",
   "id": "008e611c",
   "metadata": {},
   "source": [
    "#to categorical"
   ]
  },
  {
   "cell_type": "code",
   "execution_count": 23,
   "id": "5b83e37c",
   "metadata": {},
   "outputs": [],
   "source": [
    "y_train_category =keras.utils.to_categorical(y_train,num_classes=10)\n",
    "y_test_category =keras.utils.to_categorical(y_test,num_classes=10)"
   ]
  },
  {
   "cell_type": "code",
   "execution_count": 37,
   "id": "9a4034f1",
   "metadata": {},
   "outputs": [
    {
     "name": "stderr",
     "output_type": "stream",
     "text": [
      "c:\\Users\\Amr Khaled\\AppData\\Local\\Programs\\Python\\Python312\\Lib\\site-packages\\keras\\src\\layers\\reshaping\\flatten.py:37: UserWarning: Do not pass an `input_shape`/`input_dim` argument to a layer. When using Sequential models, prefer using an `Input(shape)` object as the first layer in the model instead.\n",
      "  super().__init__(**kwargs)\n"
     ]
    },
    {
     "name": "stdout",
     "output_type": "stream",
     "text": [
      "\u001b[1m1563/1563\u001b[0m \u001b[32m━━━━━━━━━━━━━━━━━━━━\u001b[0m\u001b[37m\u001b[0m \u001b[1m73s\u001b[0m 46ms/step - accuracy: 0.1254 - loss: 2.3503\n",
      "1745652415.1671658 1745652488.8441978\n"
     ]
    }
   ],
   "source": [
    "import time \n",
    "start_time = time.time()\n",
    "model = keras.Sequential([\n",
    "  keras.layers.Flatten(input_shape=(32,32,3)),\n",
    "  keras.layers.Dense(3000,activation='sigmoid'),\n",
    "  keras.layers.Dense(3000,activation='sigmoid'),\n",
    "  keras.layers.Dense(10,activation='softmax')])\n",
    "\n",
    "model.compile(\n",
    "  optimizer='SGD',\n",
    "  loss = 'categorical_crossentropy',\n",
    "  metrics =['accuracy']\n",
    ")\n",
    "\n",
    "with tf.device('/GPU:0'):\n",
    "  gpu_model = model\n",
    "  gpu_model.fit(Xtrain_scaled,y_train_category)\n",
    "  end_time = time.time()\n",
    "print(start_time,end_time )"
   ]
  },
  {
   "cell_type": "code",
   "execution_count": null,
   "id": "f6400fcc",
   "metadata": {},
   "outputs": [],
   "source": []
  }
 ],
 "metadata": {
  "kernelspec": {
   "display_name": "Python 3",
   "language": "python",
   "name": "python3"
  },
  "language_info": {
   "codemirror_mode": {
    "name": "ipython",
    "version": 3
   },
   "file_extension": ".py",
   "mimetype": "text/x-python",
   "name": "python",
   "nbconvert_exporter": "python",
   "pygments_lexer": "ipython3",
   "version": "3.12.6"
  }
 },
 "nbformat": 4,
 "nbformat_minor": 5
}
